{
 "cells": [
  {
   "cell_type": "code",
   "execution_count": 4,
   "id": "5a479135",
   "metadata": {},
   "outputs": [
    {
     "name": "stdout",
     "output_type": "stream",
     "text": [
      "Ahoj\n"
     ]
    }
   ],
   "source": [
    "print(\"Ahoj\")"
   ]
  },
  {
   "cell_type": "code",
   "execution_count": 43,
   "id": "62e59bc1",
   "metadata": {},
   "outputs": [
    {
     "data": {
      "text/plain": [
       "datetime.datetime(2022, 11, 1, 19, 56, 23, 871380, tzinfo=datetime.timezone(datetime.timedelta(seconds=3600), 'Střední Evropa (běžný čas)'))"
      ]
     },
     "execution_count": 43,
     "metadata": {},
     "output_type": "execute_result"
    }
   ],
   "source": [
    "import datetime\n",
    "\n",
    "from datetime import datetime, timedelta, date\n",
    "\n",
    "datetime.now().astimezone()\n",
    "\n",
    "\n"
   ]
  },
  {
   "cell_type": "code",
   "execution_count": null,
   "id": "f0f992a6",
   "metadata": {},
   "outputs": [],
   "source": []
  },
  {
   "cell_type": "code",
   "execution_count": 30,
   "id": "df1c35aa",
   "metadata": {},
   "outputs": [
    {
     "name": "stdout",
     "output_type": "stream",
     "text": [
      "1984-01-23 14:32:00\n"
     ]
    }
   ],
   "source": [
    "apollo_start = datetime(1984, 1, 23, 14, 32)\n",
    "print(apollo_start)"
   ]
  },
  {
   "cell_type": "code",
   "execution_count": 31,
   "id": "db8e119d",
   "metadata": {},
   "outputs": [
    {
     "data": {
      "text/plain": [
       "0"
      ]
     },
     "execution_count": 31,
     "metadata": {},
     "output_type": "execute_result"
    }
   ],
   "source": [
    "apollo_start.weekday()"
   ]
  },
  {
   "cell_type": "code",
   "execution_count": 32,
   "id": "0e59bc17",
   "metadata": {},
   "outputs": [
    {
     "data": {
      "text/plain": [
       "1"
      ]
     },
     "execution_count": 32,
     "metadata": {},
     "output_type": "execute_result"
    }
   ],
   "source": [
    "apollo_start.isoweekday()"
   ]
  },
  {
   "cell_type": "code",
   "execution_count": 33,
   "id": "a3bace4d",
   "metadata": {},
   "outputs": [
    {
     "data": {
      "text/plain": [
       "'1984-01-23T14:32:00'"
      ]
     },
     "execution_count": 33,
     "metadata": {},
     "output_type": "execute_result"
    }
   ],
   "source": [
    "apollo_start.isoformat()"
   ]
  },
  {
   "cell_type": "code",
   "execution_count": 35,
   "id": "3d662fe2",
   "metadata": {},
   "outputs": [
    {
     "data": {
      "text/plain": [
       "'23. 01. 1984, 14:32'"
      ]
     },
     "execution_count": 35,
     "metadata": {},
     "output_type": "execute_result"
    }
   ],
   "source": [
    "apollo_start.strftime(\"%d. %m. %Y, %H:%M\")"
   ]
  },
  {
   "cell_type": "code",
   "execution_count": 5,
   "id": "351ebbcd",
   "metadata": {},
   "outputs": [
    {
     "ename": "NameError",
     "evalue": "name 'datetime' is not defined",
     "output_type": "error",
     "traceback": [
      "\u001b[1;31m---------------------------------------------------------------------------\u001b[0m",
      "\u001b[1;31mNameError\u001b[0m                                 Traceback (most recent call last)",
      "Cell \u001b[1;32mIn [5], line 1\u001b[0m\n\u001b[1;32m----> 1\u001b[0m apollo_pristani \u001b[39m=\u001b[39m datetime\u001b[39m.\u001b[39mfromisoformat(\u001b[39m\"\u001b[39m\u001b[39m1969-07-21T18:54:00\u001b[39m\u001b[39m\"\u001b[39m)\n",
      "\u001b[1;31mNameError\u001b[0m: name 'datetime' is not defined"
     ]
    }
   ],
   "source": [
    "apollo_pristani = datetime.fromisoformat(\"1969-07-21T18:54:00\")"
   ]
  },
  {
   "cell_type": "code",
   "execution_count": 9,
   "id": "24d80960",
   "metadata": {},
   "outputs": [
    {
     "ename": "NameError",
     "evalue": "name 'datetime' is not defined",
     "output_type": "error",
     "traceback": [
      "\u001b[1;31m---------------------------------------------------------------------------\u001b[0m",
      "\u001b[1;31mNameError\u001b[0m                                 Traceback (most recent call last)",
      "Cell \u001b[1;32mIn [9], line 1\u001b[0m\n\u001b[1;32m----> 1\u001b[0m apollo_pristani \u001b[39m=\u001b[39m datetime\u001b[39m.\u001b[39mstrptime(\u001b[39m\"\u001b[39m\u001b[39m21. 7. 1969, 18:54, \u001b[39m\u001b[39m%d\u001b[39;00m\u001b[39m. \u001b[39m\u001b[39m%\u001b[39m\u001b[39mm. \u001b[39m\u001b[39m%\u001b[39m\u001b[39mY, \u001b[39m\u001b[39m%\u001b[39m\u001b[39mH:\u001b[39m\u001b[39m%\u001b[39m\u001b[39mM\u001b[39m\u001b[39m\"\u001b[39m)\n",
      "\u001b[1;31mNameError\u001b[0m: name 'datetime' is not defined"
     ]
    }
   ],
   "source": [
    "apollo_pristani = datetime.strptime(\"21. 7. 1969, 18:54, %d. %m. %Y, %H:%M\")"
   ]
  },
  {
   "cell_type": "code",
   "execution_count": 3,
   "id": "1f7db59d",
   "metadata": {},
   "outputs": [
    {
     "name": "stdout",
     "output_type": "stream",
     "text": [
      "False\n"
     ]
    }
   ],
   "source": [
    "import calendar\n",
    "print(calendar.isleap(2022))"
   ]
  },
  {
   "cell_type": "code",
   "execution_count": 41,
   "id": "80f6b174",
   "metadata": {},
   "outputs": [
    {
     "name": "stdout",
     "output_type": "stream",
     "text": [
      "-5299 days, 4:22:00\n"
     ]
    }
   ],
   "source": [
    "delka_mise = apollo_pristani - apollo_start\n",
    "print(delka_mise)"
   ]
  },
  {
   "cell_type": "code",
   "execution_count": 60,
   "id": "1489c68b",
   "metadata": {},
   "outputs": [
    {
     "name": "stdout",
     "output_type": "stream",
     "text": [
      "2022-11-01 00:00:00\n"
     ]
    },
    {
     "data": {
      "text/plain": [
       "'11/01/2022'"
      ]
     },
     "execution_count": 60,
     "metadata": {},
     "output_type": "execute_result"
    }
   ],
   "source": [
    "# Ukol 1\n",
    "apolloStart = datetime(2022, 11, 1)\n",
    "print(apolloStart)\n",
    "\n",
    "apolloStart.strftime(\"%m/%d/%Y\")"
   ]
  },
  {
   "cell_type": "code",
   "execution_count": 63,
   "id": "71c80ead",
   "metadata": {},
   "outputs": [
    {
     "name": "stdout",
     "output_type": "stream",
     "text": [
      "2020-02-10 05:03:00\n",
      "1\n",
      "Monday\n",
      "2022-11-01 20:30:15.630183\n",
      "995 days, 15:27:15.630183\n"
     ]
    }
   ],
   "source": [
    "# Ukol 2\n",
    "SolarOrbiter = datetime(2020, 2, 10, 5, 3 )\n",
    "print(SolarOrbiter)\n",
    "print(SolarOrbiter.isoweekday())\n",
    "print(SolarOrbiter.strftime(\"%A\"))\n",
    "pristani = datetime.now()\n",
    "print(pristani)\n",
    "delkaMise = pristani - SolarOrbiter\n",
    "print(delkaMise)"
   ]
  },
  {
   "cell_type": "code",
   "execution_count": 64,
   "id": "0425c9af",
   "metadata": {},
   "outputs": [
    {
     "name": "stdout",
     "output_type": "stream",
     "text": [
      "Vytvoreni objednavky : 2020-11-13 19:47:00\n",
      "cas doruceni : 2020-11-13 20:51:05\n"
     ]
    }
   ],
   "source": [
    "## Cvičeni 3\n",
    "cas_objednavky = datetime(2020, 11, 13, 19, 47)\n",
    "doba_prevzeti = timedelta(minutes=8, seconds=35)\n",
    "doba_priprava = timedelta(minutes=30)\n",
    "doba_doprava = timedelta(minutes=25, seconds=30)\n",
    "doba_celkove = doba_prevzeti + doba_priprava + doba_doprava\n",
    "\n",
    "cas_doruceni = cas_objednavky + doba_celkove\n",
    "print(f\"Vytvoreni objednavky : {cas_objednavky}\")\n",
    "print(f\"cas doruceni : {cas_doruceni}\")"
   ]
  }
 ],
 "metadata": {
  "kernelspec": {
   "display_name": "Python 3 (ipykernel)",
   "language": "python",
   "name": "python3"
  },
  "language_info": {
   "codemirror_mode": {
    "name": "ipython",
    "version": 3
   },
   "file_extension": ".py",
   "mimetype": "text/x-python",
   "name": "python",
   "nbconvert_exporter": "python",
   "pygments_lexer": "ipython3",
   "version": "3.9.6"
  },
  "vscode": {
   "interpreter": {
    "hash": "e0ddfd3612073dd45fc2406060d2f1a5980c0d2b57178b3ffa6b7adb52c11342"
   }
  }
 },
 "nbformat": 4,
 "nbformat_minor": 5
}
