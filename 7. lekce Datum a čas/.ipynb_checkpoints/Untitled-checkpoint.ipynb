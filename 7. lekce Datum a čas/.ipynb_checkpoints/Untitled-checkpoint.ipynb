{
 "cells": [
  {
   "cell_type": "code",
   "execution_count": null,
   "metadata": {},
   "outputs": [],
   "source": []
  }
 ],
 "metadata": {
  "kernelspec": {
   "display_name": "Python 3.9.6 64-bit",
   "language": "python",
   "name": "python3"
  },
  "language_info": {
   "name": "python",
   "version": "3.9.6"
  },
  "vscode": {
   "interpreter": {
    "hash": "e0ddfd3612073dd45fc2406060d2f1a5980c0d2b57178b3ffa6b7adb52c11342"
   }
  }
 },
 "nbformat": 4,
 "nbformat_minor": 5
}
